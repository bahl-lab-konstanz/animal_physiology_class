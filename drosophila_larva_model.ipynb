{
 "cells": [
  {
   "cell_type": "code",
   "execution_count": 13,
   "metadata": {
    "collapsed": true
   },
   "outputs": [],
   "source": [
    "import numpy as np\n",
    "from skimage import draw\n",
    "import pylab as pl\n",
    "import imageio"
   ]
  },
  {
   "cell_type": "code",
   "execution_count": 81,
   "outputs": [
    {
     "name": "stderr",
     "output_type": "stream",
     "text": [
      "<ipython-input-81-b6b8e9bf8ab5>:66: FutureWarning: circle is deprecated in favor of disk.circle will be removed in version 0.19\n",
      "  rr, cc = draw.circle(int(y_positions[j]), int(x_positions[j]), radius=5, shape=img.shape)\n"
     ]
    }
   ],
   "source": [
    "p_turn_if_odor_gets_stronger = 0.5\n",
    "p_turn_if_odor_gets_weaker = 0.5\n",
    "\n",
    "speed_if_odor_gets_stronger = 1\n",
    "speed_if_odor_gets_weaker = 1\n",
    "\n",
    "turn_angle_if_odor_get_stronger = 90\n",
    "turn_angle_if_odor_get_weaker = 120\n",
    "\n",
    "\n",
    "n_larvae = 25\n",
    "x_positions = np.random.random(n_larvae)*512\n",
    "y_positions = np.random.random(n_larvae)*512\n",
    "orientations = np.random.random(n_larvae)*360\n",
    "\n",
    "writer = imageio.get_writer(\"model_larvae.mp4\", fps=60, ffmpeg_params=[\"-b:v\", \"4M\"])\n",
    "\n",
    "previous_odor_concentration = np.zeros(n_larvae)\n",
    "\n",
    "for i in range(1500):\n",
    "    img = np.zeros((512, 512))\n",
    "\n",
    "    for j in range(n_larvae):\n",
    "\n",
    "        # Make a turn or go streight?\n",
    "\n",
    "        odor_distance = np.sqrt((256-x_positions[j])**2 + (50-y_positions[j])**2)\n",
    "        odor_concentration = 1 / (odor_distance + 0.1)\n",
    "\n",
    "        # is it getting better or worse?\n",
    "        if odor_concentration > previous_odor_concentration[j]:\n",
    "            p_turn = p_turn_if_odor_gets_stronger\n",
    "            speed = speed_if_odor_gets_stronger\n",
    "            turn_angle = turn_angle_if_odor_get_stronger\n",
    "        else:\n",
    "            p_turn = p_turn_if_odor_gets_weaker\n",
    "            speed = speed_if_odor_gets_weaker\n",
    "            turn_angle = turn_angle_if_odor_get_weaker\n",
    "\n",
    "        if np.random.random() < p_turn:\n",
    "            angle_change = np.random.randn() * turn_angle\n",
    "        else:\n",
    "            angle_change = 0\n",
    "\n",
    "        orientations[j] += angle_change\n",
    "        x_positions[j] += np.cos(orientations[j] * np.pi / 180) * speed\n",
    "        y_positions[j] += np.sin(orientations[j] * np.pi / 180) * speed\n",
    "        previous_odor_concentration[j] = odor_concentration\n",
    "\n",
    "        if x_positions[j] < 0:\n",
    "            x_positions[j] = 0\n",
    "            orientations[j] = np.random.random()*360\n",
    "\n",
    "        if y_positions[j] < 0:\n",
    "            y_positions[j] = 0\n",
    "            orientations[j] = np.random.random()*360\n",
    "\n",
    "        if x_positions[j] > 511:\n",
    "            x_positions[j] = 511\n",
    "            orientations[j] = np.random.random()*360\n",
    "\n",
    "        if y_positions[j] > 511:\n",
    "            y_positions[j] = 511\n",
    "            orientations[j] = np.random.random()*360\n",
    "\n",
    "        rr, cc = draw.circle(int(y_positions[j]), int(x_positions[j]), radius=5, shape=img.shape)\n",
    "        img[rr, cc] = 255\n",
    "\n",
    "        rr, cc = draw.circle_perimeter(50, 256, radius=10, shape=img.shape)\n",
    "        img[rr, cc] = 128\n",
    "\n",
    "    writer.append_data(img.astype(np.uint8))\n",
    "\n",
    "writer.close()"
   ],
   "metadata": {
    "collapsed": false,
    "pycharm": {
     "name": "#%%\n"
    }
   }
  },
  {
   "cell_type": "code",
   "execution_count": null,
   "outputs": [],
   "source": [],
   "metadata": {
    "collapsed": false,
    "pycharm": {
     "name": "#%%\n"
    }
   }
  }
 ],
 "metadata": {
  "kernelspec": {
   "display_name": "Python 3",
   "language": "python",
   "name": "python3"
  },
  "language_info": {
   "codemirror_mode": {
    "name": "ipython",
    "version": 2
   },
   "file_extension": ".py",
   "mimetype": "text/x-python",
   "name": "python",
   "nbconvert_exporter": "python",
   "pygments_lexer": "ipython2",
   "version": "2.7.6"
  }
 },
 "nbformat": 4,
 "nbformat_minor": 0
}